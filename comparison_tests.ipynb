{
 "cells": [
  {
   "cell_type": "markdown",
   "metadata": {},
   "source": [
    "## Comparing PLG/SPLICE/ASPLICE Data"
   ]
  },
  {
   "cell_type": "code",
   "execution_count": 1,
   "metadata": {
    "collapsed": true
   },
   "outputs": [],
   "source": [
    "# Load modules\n",
    "from __future__ import print_function\n",
    "import sys\n",
    "\n",
    "from collections import defaultdict\n",
    "\n",
    "from helper_functions import *\n",
    "import numpy as np\n",
    "import time\n",
    "import cPickle as pickle\n",
    "\n",
    "from splice import splice_alg\n",
    "from asplice import asplice_alg\n",
    "from plg import plg_alg"
   ]
  },
  {
   "cell_type": "markdown",
   "metadata": {},
   "source": [
    "Now we define how an experiment will be run"
   ]
  },
  {
   "cell_type": "code",
   "execution_count": 7,
   "metadata": {
    "collapsed": false
   },
   "outputs": [],
   "source": [
    "def run_experiment(experiment, params_arr):\n",
    "    res = defaultdict(list)\n",
    "    res['experiment_time'] = time.strftime(\"%Y_%m_%d_%H_%M_%S\", time.gmtime())\n",
    "    \n",
    "    #pd_edges = gen_pd_edges()\n",
    "    \n",
    "    for sample, params in enumerate(params_arr):\n",
    "        start_time = time.clock()\n",
    "        dp_edges, cost = experiment(**params_arr)\n",
    "        stop_time = time.clock()\n",
    "        res['sample'].append(sample)\n",
    "        res['cost'].append(cost)\n",
    "        res['time'].append(stop_time - start_time)\n",
    "        res['params'] = params_arr\n",
    "    return res"
   ]
  },
  {
   "cell_type": "markdown",
   "metadata": {},
   "source": [
    "To Do\n",
    "- Generate pairs\n",
    "- Run SPLICE experiments\n",
    "- Compare to PLG and ASPLICE, with stored/unstored pqts\n",
    "- Store data\n",
    "- Load all data"
   ]
  },
  {
   "cell_type": "code",
   "execution_count": null,
   "metadata": {
    "collapsed": true
   },
   "outputs": [],
   "source": []
  }
 ],
 "metadata": {
  "kernelspec": {
   "display_name": "Python 2",
   "language": "python",
   "name": "python2"
  },
  "language_info": {
   "codemirror_mode": {
    "name": "ipython",
    "version": 2
   },
   "file_extension": ".py",
   "mimetype": "text/x-python",
   "name": "python",
   "nbconvert_exporter": "python",
   "pygments_lexer": "ipython2",
   "version": "2.7.11"
  }
 },
 "nbformat": 4,
 "nbformat_minor": 0
}
