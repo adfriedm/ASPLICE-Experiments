{
 "cells": [
  {
   "cell_type": "code",
   "execution_count": 1,
   "metadata": {
    "collapsed": true
   },
   "outputs": [],
   "source": [
    "# Load modules\n",
    "import sys\n",
    "from __future__ import print_function\n",
    "from collections import defaultdict\n",
    "\n",
    "import helper_functions as hf\n",
    "import numpy as np\n",
    "import matplotlib.pyplot as plt\n",
    "%matplotlib inline\n",
    "\n",
    "import time\n",
    "\n",
    "from pqt import PQTDecomposition\n",
    "\n",
    "from splice import splice_alg\n",
    "from asplice import asplice_alg\n",
    "from plg import plg_alg"
   ]
  },
  {
   "cell_type": "code",
   "execution_count": 2,
   "metadata": {
    "collapsed": false
   },
   "outputs": [],
   "source": [
    "\n",
    "def compute_avg_times(n_pairs_li, n_reps, gen_pd_edges, p_hat=0.01, verbose=False):\n",
    "    \"\"\"\n",
    "    Parameters:\n",
    "        n_pairs_li - a list of the number of pairs to generate\n",
    "        n_reps - the number of repetitions of experiment with that number of pairs\n",
    "        gen_pd_edges - function the generates n pairs\n",
    "        include_pqt_time - whether or not the time to compute the pqt should be included\n",
    "        verbose - whether or not to print the repetitions to stdout\n",
    "    \"\"\"\n",
    "    splice_avg_times = []\n",
    "    plg_avg_times = []\n",
    "    asplice_avg_times = []\n",
    "    pqt_avg_times = []\n",
    "    \n",
    "    # Run experiment\n",
    "    for n_pairs in n_pairs_li:\n",
    "        splice_cum_runtime = 0.\n",
    "        asplice_cum_runtime = 0.\n",
    "        plg_cum_runtime = 0.\n",
    "        pqt_cum_runtime = 0.\n",
    "    \n",
    "        for rep in xrange(n_reps):\n",
    "            if verbose:\n",
    "                print(\"Number of pairs: {} Rep: {} at ({})\".format(n_pairs, \n",
    "                  rep, time.strftime(\"%H:%M %S\", time.gmtime())))\n",
    "                sys.stdout.flush()\n",
    "            # Generate pairs\n",
    "            pd_edges = gen_pd_edges(n_pairs)\n",
    "\n",
    "            # Run SPLICE\n",
    "            start_time = time.clock()\n",
    "            _, cost = splice_alg(pd_edges)\n",
    "            splice_runtime = time.clock() - start_time\n",
    "            splice_cum_runtime += splice_runtime\n",
    "            \n",
    "            # Generate PQT\n",
    "            start_time = time.clock()\n",
    "            pqt = PQTDecomposition().from_points(pd_edges.keys(), p_hat=p_hat)\n",
    "            pqt_time = time.clock() - start_time\n",
    "            pqt_cum_runtime += pqt_time\n",
    "            \n",
    "            # Run ASPLICE\n",
    "            start_time = time.clock()\n",
    "            _, cost = asplice_alg(pd_edges, pqt=pqt)\n",
    "            asplice_cum_runtime = time.clock() - start_time\n",
    "            \n",
    "            # Run PLG\n",
    "            start_time = time.clock()\n",
    "            _, cost = plg_alg(pd_edges, pqt=pqt)\n",
    "            plg_cum_runtime = time.clock() - start_time\n",
    "                    \n",
    "        splice_avg_times.append(np.mean(splice_cum_runtime))\n",
    "        plg_avg_times.append(np.mean(plg_cum_runtime))\n",
    "        asplice_avg_times.append(np.mean(asplice_cum_runtime))\n",
    "        pqt_avg_times.append(np.mean(pqt_cum_runtime))\n",
    "        \n",
    "    return splice_avg_times, plg_avg_times, asplice_avg_times, pqt_avg_times"
   ]
  },
  {
   "cell_type": "code",
   "execution_count": 23,
   "metadata": {
    "collapsed": false,
    "scrolled": true
   },
   "outputs": [
    {
     "name": "stdout",
     "output_type": "stream",
     "text": [
      "[10, 14, 18, 22, 26, 30, 34, 38, 42, 46, 50, 54, 58, 62, 66, 70, 74, 78, 82, 86, 90, 94, 98, 102, 106, 110, 114, 118]\n"
     ]
    }
   ],
   "source": [
    "# Experiment parameters\n",
    "n_pairs_li = list(xrange(10, 120, 4)) #+ list(xrange(100, 200, 20))\n",
    "print(n_pairs_li)\n",
    "p_hat = 0.1\n",
    "\n",
    "n_reps = 3\n",
    "gen_pd_edges = hf.gen_pd_edges"
   ]
  },
  {
   "cell_type": "markdown",
   "metadata": {},
   "source": [
    "## Run Average Time Experiment"
   ]
  },
  {
   "cell_type": "code",
   "execution_count": 24,
   "metadata": {
    "collapsed": false
   },
   "outputs": [
    {
     "name": "stdout",
     "output_type": "stream",
     "text": [
      "Number of pairs: 10 Rep: 0 at (07:46 02)\n",
      "Number of pairs: 10 Rep: 1 at (07:46 02)\n",
      "Number of pairs: 10 Rep: 2 at (07:46 02)\n",
      "Number of pairs: 14 Rep: 0 at (07:46 02)\n",
      "Number of pairs: 14 Rep: 1 at (07:46 02)\n",
      "Number of pairs: 14 Rep: 2 at (07:46 02)\n",
      "Number of pairs: 18 Rep: 0 at (07:46 02)\n",
      "Number of pairs: 18 Rep: 1 at (07:46 02)\n",
      "Number of pairs: 18 Rep: 2 at (07:46 02)\n",
      "Number of pairs: 22 Rep: 0 at (07:46 02)\n",
      "Number of pairs: 22 Rep: 1 at (07:46 03)\n",
      "Number of pairs: 22 Rep: 2 at (07:46 03)\n",
      "Number of pairs: 26 Rep: 0 at (07:46 03)\n",
      "Number of pairs: 26 Rep: 1 at (07:46 03)\n",
      "Number of pairs: 26 Rep: 2 at (07:46 03)\n",
      "Number of pairs: 30 Rep: 0 at (07:46 03)\n",
      "Number of pairs: 30 Rep: 1 at (07:46 03)\n",
      "Number of pairs: 30 Rep: 2 at (07:46 03)\n",
      "Number of pairs: 34 Rep: 0 at (07:46 03)\n",
      "Number of pairs: 34 Rep: 1 at (07:46 03)\n",
      "Number of pairs: 34 Rep: 2 at (07:46 03)\n",
      "Number of pairs: 38 Rep: 0 at (07:46 04)\n",
      "Number of pairs: 38 Rep: 1 at (07:46 04)\n",
      "Number of pairs: 38 Rep: 2 at (07:46 04)\n",
      "Number of pairs: 42 Rep: 0 at (07:46 04)\n",
      "Number of pairs: 42 Rep: 1 at (07:46 04)\n",
      "Number of pairs: 42 Rep: 2 at (07:46 04)\n",
      "Number of pairs: 46 Rep: 0 at (07:46 05)\n",
      "Number of pairs: 46 Rep: 1 at (07:46 05)\n",
      "Number of pairs: 46 Rep: 2 at (07:46 05)\n",
      "Number of pairs: 50 Rep: 0 at (07:46 05)\n",
      "Number of pairs: 50 Rep: 1 at (07:46 06)\n",
      "Number of pairs: 50 Rep: 2 at (07:46 06)\n",
      "Number of pairs: 54 Rep: 0 at (07:46 06)\n",
      "Number of pairs: 54 Rep: 1 at (07:46 07)\n",
      "Number of pairs: 54 Rep: 2 at (07:46 07)\n",
      "Number of pairs: 58 Rep: 0 at (07:46 08)\n",
      "Number of pairs: 58 Rep: 1 at (07:46 08)\n",
      "Number of pairs: 58 Rep: 2 at (07:46 09)\n",
      "Number of pairs: 62 Rep: 0 at (07:46 10)\n",
      "Number of pairs: 62 Rep: 1 at (07:46 10)\n",
      "Number of pairs: 62 Rep: 2 at (07:46 11)\n",
      "Number of pairs: 66 Rep: 0 at (07:46 11)\n",
      "Number of pairs: 66 Rep: 1 at (07:46 12)\n",
      "Number of pairs: 66 Rep: 2 at (07:46 13)\n",
      "Number of pairs: 70 Rep: 0 at (07:46 14)\n",
      "Number of pairs: 70 Rep: 1 at (07:46 15)\n",
      "Number of pairs: 70 Rep: 2 at (07:46 16)\n",
      "Number of pairs: 74 Rep: 0 at (07:46 17)\n",
      "Number of pairs: 74 Rep: 1 at (07:46 18)\n",
      "Number of pairs: 74 Rep: 2 at (07:46 19)\n",
      "Number of pairs: 78 Rep: 0 at (07:46 21)\n",
      "Number of pairs: 78 Rep: 1 at (07:46 22)\n",
      "Number of pairs: 78 Rep: 2 at (07:46 23)\n",
      "Number of pairs: 82 Rep: 0 at (07:46 25)\n",
      "Number of pairs: 82 Rep: 1 at (07:46 26)\n",
      "Number of pairs: 82 Rep: 2 at (07:46 28)\n",
      "Number of pairs: 86 Rep: 0 at (07:46 31)\n",
      "Number of pairs: 86 Rep: 1 at (07:46 33)\n",
      "Number of pairs: 86 Rep: 2 at (07:46 35)\n",
      "Number of pairs: 90 Rep: 0 at (07:46 38)\n",
      "Number of pairs: 90 Rep: 1 at (07:46 40)\n",
      "Number of pairs: 90 Rep: 2 at (07:46 42)\n",
      "Number of pairs: 94 Rep: 0 at (07:46 45)\n",
      "Number of pairs: 94 Rep: 1 at (07:46 48)\n",
      "Number of pairs: 94 Rep: 2 at (07:46 51)\n",
      "Number of pairs: 98 Rep: 0 at (07:46 54)\n",
      "Number of pairs: 98 Rep: 1 at (07:46 57)\n",
      "Number of pairs: 98 Rep: 2 at (07:47 02)\n",
      "Number of pairs: 102 Rep: 0 at (07:47 07)\n",
      "Number of pairs: 102 Rep: 1 at (07:47 10)\n",
      "Number of pairs: 102 Rep: 2 at (07:47 14)\n",
      "Number of pairs: 106 Rep: 0 at (07:47 19)\n",
      "Number of pairs: 106 Rep: 1 at (07:47 23)\n",
      "Number of pairs: 106 Rep: 2 at (07:47 28)\n",
      "Number of pairs: 110 Rep: 0 at (07:47 32)\n",
      "Number of pairs: 110 Rep: 1 at (07:47 38)\n",
      "Number of pairs: 110 Rep: 2 at (07:47 44)\n",
      "Number of pairs: 114 Rep: 0 at (07:47 48)\n",
      "Number of pairs: 114 Rep: 1 at (07:47 55)\n",
      "Number of pairs: 114 Rep: 2 at (07:48 01)\n",
      "Number of pairs: 118 Rep: 0 at (07:48 07)\n",
      "Number of pairs: 118 Rep: 1 at (07:48 13)\n",
      "Number of pairs: 118 Rep: 2 at (07:48 20)\n"
     ]
    }
   ],
   "source": [
    "splice_avg_times, plg_avg_times, asplice_avg_times, pqt_avg_times = \\\n",
    "compute_avg_times(n_pairs_li, n_reps, gen_pd_edges, p_hat, verbose=True)"
   ]
  },
  {
   "cell_type": "markdown",
   "metadata": {},
   "source": [
    "## Average Time excluding PQT Time\n",
    "This is equivalent to running the algorithms using a PQT generated on the current points. "
   ]
  },
  {
   "cell_type": "code",
   "execution_count": 28,
   "metadata": {
    "collapsed": false,
    "scrolled": true
   },
   "outputs": [
    {
     "data": {
      "image/png": "[encoded data removed]",
      "text/plain": [
       "<matplotlib.figure.Figure at 0x1122b9050>"
      ]
     },
     "metadata": {},
     "output_type": "display_data"
    }
   ],
   "source": [
    "fig, ax = plt.subplots()\n",
    "ax.set_yscale('log')\n",
    "ax.plot(n_pairs_li, splice_avg_times, color='b', linestyle='-',\n",
    "        label=r\"SPLICE\")\n",
    "ax.plot(n_pairs_li, plg_avg_times, color='g', linestyle='-.',\n",
    "        label=r\"PLG ($\\,\\hat{{p}}={}$)\".format(p_hat))\n",
    "ax.plot(n_pairs_li, asplice_avg_times, color='r', linestyle='--',\n",
    "        label=r\"ASPLICE ($\\,\\hat{{p}}={}$)\".format(p_hat))\n",
    "\n",
    "ax.set_xlabel(\"Number of pd Pairs\", fontsize=15)\n",
    "ax.set_ylabel(\"Runtime (s)\", fontsize=15)\n",
    "ax.set_title('Algorithm Runtime vs Number of Pairs (excluding PQT)')\n",
    "\n",
    "ax.legend(loc=2)\n",
    "\n",
    "ax.grid(True)\n",
    "fig.tight_layout()"
   ]
  },
  {
   "cell_type": "markdown",
   "metadata": {},
   "source": [
    "## Average Time including PQT Time\n",
    "This is equivalent to running the algorithms using a previously generated PQT.\n",
    "\n",
    "Due to the fact that the number of repetitions was identical for each experiment, we may calculate the average time including PQT by merely summing the averages"
   ]
  },
  {
   "cell_type": "code",
   "execution_count": 29,
   "metadata": {
    "collapsed": false
   },
   "outputs": [],
   "source": [
    "splice_avg_times_inc = np.array(splice_avg_times) + np.array(pqt_avg_times)\n",
    "asplice_avg_times_inc = np.array(asplice_avg_times) + np.array(pqt_avg_times)\n",
    "plg_avg_times_inc = np.array(plg_avg_times) + np.array(pqt_avg_times)"
   ]
  },
  {
   "cell_type": "code",
   "execution_count": 30,
   "metadata": {
    "collapsed": false
   },
   "outputs": [
    {
     "data": {
      "image/png": "[encoded data removed]",
      "text/plain": [
       "<matplotlib.figure.Figure at 0x1125ff0d0>"
      ]
     },
     "metadata": {},
     "output_type": "display_data"
    }
   ],
   "source": [
    "fig, ax = plt.subplots()\n",
    "ax.set_yscale('log')\n",
    "ax.plot(n_pairs_li, splice_avg_times, color='b', linestyle='-',\n",
    "        label=r\"SPLICE\")\n",
    "ax.plot(n_pairs_li, plg_avg_times, color='g', linestyle='-.',\n",
    "        label=r\"PLG\")\n",
    "ax.plot(n_pairs_li, asplice_avg_times, color='r', linestyle='--',\n",
    "        label=r\"ASPLICE\")\n",
    "ax.plot(n_pairs_li, plg_avg_times_inc, color='g', linestyle='-.',\n",
    "        label=r\"PLG inc\")\n",
    "ax.plot(n_pairs_li, asplice_avg_times_inc, color='r', linestyle='--',\n",
    "       label=r\"ASPLICE inc\")\n",
    "\n",
    "\n",
    "ax.set_xlabel(\"Number of pd Pairs\", fontsize=15)\n",
    "ax.set_ylabel(\"Runtime (s)\", fontsize=15)\n",
    "ax.set_title(r\"Algorithm Runtime vs Number of Pairs ($\\,\\hat{{p}}={}$)\".format(p_hat))\n",
    "\n",
    "ax.legend(loc=2, labelspacing=0)\n",
    "\n",
    "ax.grid(True)\n",
    "fig.tight_layout()"
   ]
  },
  {
   "cell_type": "code",
   "execution_count": null,
   "metadata": {
    "collapsed": true
   },
   "outputs": [],
   "source": [
    "print()"
   ]
  },
  {
   "cell_type": "markdown",
   "metadata": {},
   "source": [
    "## Average Cost"
   ]
  },
  {
   "cell_type": "code",
   "execution_count": null,
   "metadata": {
    "collapsed": true
   },
   "outputs": [],
   "source": [
    "\n",
    "def compute_avg_costs(n_pairs_li, n_reps, gen_pd_edges, p_hat=0.01, verbose=False):\n",
    "    \"\"\"\n",
    "    Parameters:\n",
    "        n_pairs_li - a list of the number of pairs to generate\n",
    "        n_reps - the number of repetitions of experiment with that number of pairs\n",
    "        gen_pd_edges - function the generates n pairs\n",
    "        include_pqt_time - whether or not the time to compute the pqt should be included\n",
    "        verbose - whether or not to print the repetitions to stdout\n",
    "    \"\"\"\n",
    "    splice_avg_costs = []\n",
    "    plg_avg_costs = []\n",
    "    asplice_avg_costs = []\n",
    "    pqt_avg_costs = []\n",
    "    \n",
    "    # Run experiment\n",
    "    for n_pairs in n_pairs_li:\n",
    "        splice_cum_cost = 0.\n",
    "        asplice_cum_cost = 0.\n",
    "        plg_cum_cost = 0.\n",
    "    \n",
    "        for rep in xrange(n_reps):\n",
    "            if verbose:\n",
    "                print(\"Number of pairs: {} Rep: {} at ({})\".format(n_pairs, \n",
    "                  rep, time.strftime(\"%H:%M %S\", time.gmtime())))\n",
    "                sys.stdout.flush()\n",
    "            # Generate pairs\n",
    "            pd_edges = gen_pd_edges(n_pairs)\n",
    "\n",
    "            # Run SPLICE\n",
    "            _, cost = splice_alg(pd_edges)\n",
    "            splice_cum_cost += cost\n",
    "            \n",
    "            # Generate PQT\n",
    "            pqt = PQTDecomposition().from_points(pd_edges.keys(), p_hat=p_hat)\n",
    "            \n",
    "            # Run ASPLICE\n",
    "            _, cost = asplice_alg(pd_edges, pqt=pqt)\n",
    "            asplice_cum_cost += cost\n",
    "            \n",
    "            # Run PLG\n",
    "            _, cost = plg_alg(pd_edges, pqt=pqt)\n",
    "            plg_cum_cost += cost\n",
    "                    \n",
    "        splice_avg_costs.append(np.mean(splice_cum_cost))\n",
    "        plg_avg_costs.append(np.mean(plg_cum_cost))\n",
    "        asplice_avg_costs.append(np.mean(asplice_cum_cost))\n",
    "        \n",
    "    return splice_avg_costs, plg_avg_costs, asplice_avg_costs"
   ]
  },
  {
   "cell_type": "code",
   "execution_count": null,
   "metadata": {
    "collapsed": false
   },
   "outputs": [],
   "source": [
    "splice_avg_costs, plg_avg_costs, asplice_avg_costs = \\\n",
    "compute_avg_costs(n_pairs_li, n_reps, gen_pd_edges, p_hat, verbose=True)"
   ]
  },
  {
   "cell_type": "markdown",
   "metadata": {},
   "source": [
    "## Average Cost"
   ]
  },
  {
   "cell_type": "code",
   "execution_count": null,
   "metadata": {
    "collapsed": false
   },
   "outputs": [],
   "source": [
    "fig, ax = plt.subplots()\n",
    "#ax.set_yscale('log')\n",
    "ax.plot(n_pairs_li, splice_avg_costs, color='b', linestyle='-',\n",
    "        label=r\"SPLICE\")\n",
    "ax.plot(n_pairs_li, plg_avg_costs, color='g', linestyle='-.',\n",
    "        label=r\"PLG\")\n",
    "ax.plot(n_pairs_li, asplice_avg_costs, color='r', linestyle='--',\n",
    "        label=r\"ASPLICE\")\n",
    "\n",
    "\n",
    "ax.set_xlabel(\"Number of pd Pairs\", fontsize=15)\n",
    "ax.set_ylabel(\"Runtime (s)\", fontsize=15)\n",
    "ax.set_title(r\"Algorithm Cost vs Number of Pairs ($\\,\\hat{{p}}={}$)\".format(p_hat))\n",
    "\n",
    "ax.legend(loc=2, labelspacing=0)\n",
    "\n",
    "ax.grid(True)\n",
    "fig.tight_layout()"
   ]
  },
  {
   "cell_type": "code",
   "execution_count": null,
   "metadata": {
    "collapsed": true
   },
   "outputs": [],
   "source": []
  }
 ],
 "metadata": {
  "kernelspec": {
   "display_name": "Python 2",
   "language": "python",
   "name": "python2"
  },
  "language_info": {
   "codemirror_mode": {
    "name": "ipython",
    "version": 2
   },
   "file_extension": ".py",
   "mimetype": "text/x-python",
   "name": "python",
   "nbconvert_exporter": "python",
   "pygments_lexer": "ipython2",
   "version": "2.7.11"
  }
 },
 "nbformat": 4,
 "nbformat_minor": 0
}
