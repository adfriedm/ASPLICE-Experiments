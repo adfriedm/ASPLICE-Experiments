{
 "cells": [
  {
   "cell_type": "markdown",
   "metadata": {},
   "source": [
    "# Comparing PLG/SPLICE/ASPLICE Data"
   ]
  },
  {
   "cell_type": "code",
   "execution_count": 1,
   "metadata": {
    "collapsed": true
   },
   "outputs": [],
   "source": [
    "# Load modules\n",
    "import sys\n",
    "from __future__ import print_function\n",
    "from collections import defaultdict\n",
    "\n",
    "import helper_functions as hf\n",
    "import numpy as np\n",
    "import matplotlib.pyplot as plt\n",
    "%matplotlib inline\n",
    "\n",
    "import time\n",
    "import cPickle as pickle\n",
    "\n",
    "\n",
    "from pqt import PQTDecomposition\n",
    "\n",
    "from splice import splice_alg\n",
    "from asplice import asplice_alg\n",
    "from plg import plg_alg"
   ]
  },
  {
   "cell_type": "markdown",
   "metadata": {},
   "source": [
    "## Setup experiments"
   ]
  },
  {
   "cell_type": "code",
   "execution_count": 21,
   "metadata": {
    "collapsed": true
   },
   "outputs": [],
   "source": [
    "def run_experiments(gen_pd_edges, n_pairs_confs, p_hat_confs, n_reps_conf, verbose=False):\n",
    "    results = []\n",
    "    for n_pairs in n_pairs_confs:\n",
    "        for rep in xrange(n_reps_conf):\n",
    "            if verbose:\n",
    "                print(\"Number of pairs: {} Rep: {} at ({})\".format(n_pairs, \n",
    "                      rep, time.strftime(\"%H:%M %S\", time.gmtime())))\n",
    "                sys.stdout.flush()\n",
    "        \n",
    "            # Generate from uniform distribution\n",
    "            pd_edges = gen_pd_edges(n_pairs=n_pairs)\n",
    "            # Store timestamp to uniquely identify pd_edges\n",
    "            timestamp = time.time()\n",
    "        \n",
    "            # Run SPLICE\n",
    "            start_time = time.clock()\n",
    "            _,cost = splice_alg(pd_edges)\n",
    "            splice_time = time.clock() - start_time\n",
    "            \n",
    "            # Store result\n",
    "            results.append({'timestamp': timestamp,\n",
    "                            'alg': splice_alg.__name__,\n",
    "                            'cost': cost,\n",
    "                            'num_pairs': n_pairs,\n",
    "                            'alg_time': splice_time})\n",
    "            \n",
    "            for p_hat in p_hat_confs:\n",
    "                # Generate PQT\n",
    "                start_time = time.clock()\n",
    "                pqt = PQTDecomposition().from_points(pd_edges.keys(), p_hat=p_hat)\n",
    "                pqt_time = time.clock() - start_time\n",
    "            \n",
    "                # Run ASPLICE\n",
    "                start_time = time.clock()\n",
    "                _,cost = asplice_alg(pd_edges, pqt=pqt)\n",
    "                asplice_time = time.clock() - start_time\n",
    "                \n",
    "                # Store result\n",
    "                results.append({'timestamp': timestamp,\n",
    "                                'alg': asplice_alg.__name__,\n",
    "                                'cost': cost,\n",
    "                                'num_pairs': n_pairs,\n",
    "                                'alg_time': asplice_time,\n",
    "                                'pqt_time': pqt_time,\n",
    "                                'p_hat': p_hat})\n",
    "                \n",
    "                # Run PLG\n",
    "                start_time = time.clock()\n",
    "                _,cost = plg_alg(pd_edges, pqt=pqt)\n",
    "                plg_time = time.clock() - start_time\n",
    "                \n",
    "                # Store result\n",
    "                results.append({'timestamp': timestamp,\n",
    "                                'alg': plg_alg.__name__,\n",
    "                                'cost': cost,\n",
    "                                'num_pairs': n_pairs,\n",
    "                                'alg_time': asplice_time,\n",
    "                                'pqt_time': pqt_time,\n",
    "                                'p_hat': p_hat})\n",
    "    return results"
   ]
  },
  {
   "cell_type": "markdown",
   "metadata": {},
   "source": [
    "### Generate Data"
   ]
  },
  {
   "cell_type": "code",
   "execution_count": 29,
   "metadata": {
    "collapsed": false,
    "scrolled": false
   },
   "outputs": [],
   "source": [
    "n_pairs_confs = [10, 50]\n",
    "p_hat_confs = [0.1, 0.05, 0.01]\n",
    "n_reps_conf = 5\n",
    "gen_pd_edges = hf.gen_pd_edges\n",
    "\n",
    "results = run_experiments(gen_pd_edges, n_pairs_confs,\n",
    "                            p_hat_confs, n_reps_conf,\n",
    "                            verbose=False)"
   ]
  },
  {
   "cell_type": "markdown",
   "metadata": {},
   "source": [
    "## Plot Runtime vs Num Pairs"
   ]
  },
  {
   "cell_type": "code",
   "execution_count": 45,
   "metadata": {
    "collapsed": false
   },
   "outputs": [
    {
     "data": {
      "image/png": "[encoded data removed]",
      "text/plain": [
       "<matplotlib.figure.Figure at 0x11bffee90>"
      ]
     },
     "metadata": {},
     "output_type": "display_data"
    }
   ],
   "source": [
    "# Extract data\n",
    "splice_data = filter(lambda result: result['alg']==splice_alg.__name__, results)\n",
    "asplice_data = filter(lambda result: result['alg']==asplice_alg.__name__, results)\n",
    "\n",
    "plg_data = filter(lambda result: result['alg']==plg_alg.__name__, results)\n",
    "plg_data = {}\n",
    "\n",
    "splice_cost = [entry['cost'] for entry in splice_data]\n",
    "splice_n_pairs = [entry['num_pairs'] for entry in splice_data]\n",
    "\n",
    "fig, ax = plt.subplots()\n",
    "ax.scatter(splice_n_pairs, splice_cost)\n",
    "\n",
    "\n",
    "\n",
    "plt.show()"
   ]
  },
  {
   "cell_type": "code",
   "execution_count": 31,
   "metadata": {
    "collapsed": false
   },
   "outputs": [
    {
     "ename": "NameError",
     "evalue": "name 'unique' is not defined",
     "output_type": "error",
     "traceback": [
      "\u001b[0;31m---------------------------------------------------------------------------\u001b[0m",
      "\u001b[0;31mNameError\u001b[0m                                 Traceback (most recent call last)",
      "\u001b[0;32m<ipython-input-31-6a6c9554143a>\u001b[0m in \u001b[0;36m<module>\u001b[0;34m()\u001b[0m\n\u001b[0;32m----> 1\u001b[0;31m \u001b[0munique\u001b[0m\u001b[0;34m(\u001b[0m\u001b[0;34m[\u001b[0m\u001b[0;36m1\u001b[0m\u001b[0;34m,\u001b[0m\u001b[0;36m2\u001b[0m\u001b[0;34m,\u001b[0m\u001b[0;36m3\u001b[0m\u001b[0;34m,\u001b[0m\u001b[0;36m1\u001b[0m\u001b[0;34m]\u001b[0m\u001b[0;34m)\u001b[0m\u001b[0;34m\u001b[0m\u001b[0m\n\u001b[0m",
      "\u001b[0;31mNameError\u001b[0m: name 'unique' is not defined"
     ]
    }
   ],
   "source": [
    "unique([1,2,3,1])"
   ]
  },
  {
   "cell_type": "code",
   "execution_count": null,
   "metadata": {
    "collapsed": true
   },
   "outputs": [],
   "source": []
  }
 ],
 "metadata": {
  "kernelspec": {
   "display_name": "Python 2",
   "language": "python",
   "name": "python2"
  },
  "language_info": {
   "codemirror_mode": {
    "name": "ipython",
    "version": 2
   },
   "file_extension": ".py",
   "mimetype": "text/x-python",
   "name": "python",
   "nbconvert_exporter": "python",
   "pygments_lexer": "ipython2",
   "version": "2.7.11"
  }
 },
 "nbformat": 4,
 "nbformat_minor": 0
}
